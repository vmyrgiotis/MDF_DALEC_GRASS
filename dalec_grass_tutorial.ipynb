{
 "cells": [
  {
   "cell_type": "markdown",
   "id": "attached-equilibrium",
   "metadata": {},
   "source": [
    "# DALEC-GRASS tutorial \n",
    "\n",
    "Vasilis Myrgiotis | 02.06.2022 \n",
    "University of Edinburgh | Global Change Ecology Lab  \n",
    "\n",
    "This is a tutorial on using DALEC-Grass. The tutorial has 3 sections \n",
    "\n",
    "1. DALEC-Grass code\n",
    "2. DALEC-Grass inputs\n",
    "3. Model data fusion with DALEC-Grass\n",
    "\n",
    "## DALEC-GRASS \n",
    "\n",
    "DALEC-Grass is a grassland specific version of DALEC that was developed from DALEC_GIS_DFOL_FR.f90. It is written in fortran and its code is available on github (https://github.com/GCEL/DALEC-Grass). Since DALEC-Grass is work in progress the \"latest version\" is not on the github repo.\n"
   ]
  },
  {
   "cell_type": "code",
   "execution_count": null,
   "id": "apart-efficiency",
   "metadata": {},
   "outputs": [],
   "source": [
    "# import necessary packages\n",
    "%matplotlib inline\n",
    "from wand. image import Image as WImage\n",
    "import salem\n",
    "from convertbng.util import convert_bng, convert_lonlat\n",
    "import geopandas as gpd \n",
    "import pandas as pd \n",
    "import numpy as np\n",
    "import matplotlib.pyplot as plt \n",
    "\n",
    "# Plot a schematic of the DALEC-Grass model\n",
    "img = WImage(filename='dalec_grass.pdf')\n",
    "img\n"
   ]
  },
  {
   "cell_type": "code",
   "execution_count": null,
   "id": "colored-machinery",
   "metadata": {},
   "outputs": [],
   "source": [
    "# Show some basic info on DALEC-Grass pools, fluxes, parameters and units\n",
    "img = WImage(filename='dalec_pars.png')\n",
    "img"
   ]
  },
  {
   "cell_type": "markdown",
   "id": "latin-subscription",
   "metadata": {},
   "source": [
    "I am using DALEC-Grass in python. The fortran code will be integrated into the DALEC/CARDAMOM structure soon. \n",
    "\n",
    "There are python scipts packaged and available from github that allow the user to :\n",
    "\n",
    "1. source climate and optical/radar EO data form Alaska Satellite Facility, AWS and ECMWF (user accounts needed)\n",
    "2. process them into time-series for weather variables and LAI observations (storage/RAM demands)\n",
    "3. implement different probabilistic parameter optimisation algorithms (with/without paralellisation)\n",
    "\n",
    "The MDF_DALEC_GRASS package can be installed and DALEC_GRASS.f90 can be compilled by running these 2 lines : "
   ]
  },
  {
   "cell_type": "code",
   "execution_count": null,
   "id": "ancient-freeze",
   "metadata": {},
   "outputs": [],
   "source": [
    "! python setup.py install # install package\n",
    "! f2py -c DALEC_GRASS.f90 -m DALEC_GRASS # compile the DALEC_GRASS.f90 into a python object "
   ]
  },
  {
   "cell_type": "code",
   "execution_count": null,
   "id": "future-noise",
   "metadata": {
    "scrolled": true
   },
   "outputs": [],
   "source": [
    "# see how the MDF_DALEC_GRASS folder looks\n",
    "! ls -lh"
   ]
  },
  {
   "cell_type": "markdown",
   "id": "conservative-energy",
   "metadata": {},
   "source": [
    "## DALEC-Grass inputs \n",
    "\n",
    "The standard DALEC inputs needed with the GSI module : min/max T, srad, photoperiod, VPD, atm CO2 PLUS information on what is happening to the vegetation of a grassland field i.e. weekly reduction in LAI. \n",
    "\n",
    "Vegetation volume change inputs are a time-series of week-to-week reduction in LAI (in total m2.m-2 per week, can be zero or positive).\n",
    "\n",
    "The input_data_procuction module of the MDF_DALEC_GRASS package handles input data creation. Provided with a polygon (field limits) and a start/end date it will: \n",
    "\n",
    "1. source raw met (ECMWF) and EO (ASF,AWS) data \n",
    "2. process them into met and veg_reduction time-series; and into\n",
    "3. observational LAI time-series, based on fusing optical (sentinel-2) and radar (sentinel-1) data\n",
    "\n",
    "Steps 1-3 take time (Step1: 20%, Step2: 30%, Step3: 50% of total duration)."
   ]
  },
  {
   "cell_type": "code",
   "execution_count": null,
   "id": "worse-tomato",
   "metadata": {},
   "outputs": [],
   "source": [
    "# Example site location and limits\n",
    "gdf = gpd.read_file('greatfield.geojson') # a geojson or shapefile with the location of the site\n",
    "gdf = gdf.to_crs(epsg=4326)\n",
    "gdf[['minx','miny','maxx','maxy']] = gdf.geometry.bounds\n",
    "\n",
    "## Get the google map basemap\n",
    "xdist = (gdf.minx.min() - gdf.maxx.max())*1.5\n",
    "ydist = (gdf.miny.min() - gdf.maxy.max())*1.5\n",
    "g = salem.GoogleVisibleMap(x=[gdf.minx.min()-xdist, gdf.maxx.max()+xdist],\n",
    "                           y=[gdf.miny.min()-ydist, gdf.maxy.max()+ydist],\n",
    "                           maptype='satellite', scale=1,\n",
    "                           size_x=400, size_y=400)\n",
    "ggl_img = g.get_vardata()\n",
    "\n",
    "sm = salem.Map(g.grid, factor=1, countries=False)\n",
    "sm.set_rgb(ggl_img,)  # add the background rgb image\n",
    "cmap = plt.get_cmap('Blues')\n",
    "for g, geo in enumerate(gdf.geometry) : sm.set_geometry(geo,alpha=0.75,facecolor=cmap(gdf.area.iloc[g]/(gdf.area.max()-gdf.area.min())))\n",
    "\n",
    "# plot!\n",
    "f, ax = plt.subplots(figsize=(10, 8))\n",
    "ax.set_position([0.05, 0.06, 0.7, 0.9])\n",
    "sm.visualize(ax=ax)\n",
    "plt.show()"
   ]
  },
  {
   "cell_type": "code",
   "execution_count": null,
   "id": "civilian-prefix",
   "metadata": {},
   "outputs": [],
   "source": [
    "drivers = np.load('greatfield_M.npy') # load met/veg_red time-series\n",
    "drivers.shape # see above for basic info on DALEC-Grass pools, fluxes, parameters and units "
   ]
  },
  {
   "cell_type": "code",
   "execution_count": null,
   "id": "generic-navigator",
   "metadata": {},
   "outputs": [],
   "source": [
    "years = drivers.shape[1]/52\n",
    "years # how many years simulated "
   ]
  },
  {
   "cell_type": "code",
   "execution_count": null,
   "id": "spiritual-constitution",
   "metadata": {
    "scrolled": true
   },
   "outputs": [],
   "source": [
    "# preview met/management time-series\n",
    "inputs = pd.DataFrame(drivers)\n",
    "inputs = inputs.T\n",
    "inputs.index = pd.date_range('2017-01-01', periods = drivers.shape[1], freq='W') \n",
    "inputs = inputs.rename(columns={inputs.columns[1]: 'minT'}) \n",
    "inputs = inputs.rename(columns={inputs.columns[2]: 'maxT'}) \n",
    "inputs = inputs.rename(columns={inputs.columns[3]: 'srad'}) \n",
    "inputs = inputs.rename(columns={inputs.columns[7]: 'veg_red'}) \n",
    "\n",
    "plt.figure(figsize=(16, 4))\n",
    "plt.subplot(1, 3, 1)\n",
    "plt.title('temperature min/max')\n",
    "plt.ylabel('$^{o}$C')\n",
    "plt.plot(inputs.minT,label='min',color='blue')\n",
    "plt.plot(inputs.maxT,label='max',color='red')\n",
    "plt.xticks(rotation=90)\n",
    "plt.legend()\n",
    "plt.subplot(1, 3, 2)\n",
    "plt.title('srad')\n",
    "plt.ylabel('Mj m$^{2}$ d${-1}$')\n",
    "plt.plot(inputs.srad)\n",
    "plt.xticks(rotation=90)\n",
    "plt.subplot(1, 3, 3)\n",
    "plt.title('vegetation reduction')\n",
    "plt.ylabel('LAI m$^{2}$ m$^{-2}$ w${-1}$')\n",
    "plt.plot(inputs.veg_red)\n",
    "plt.xticks(rotation=90)\n",
    "plt.tight_layout()\n",
    "plt.show()"
   ]
  },
  {
   "cell_type": "code",
   "execution_count": null,
   "id": "protecting-arcade",
   "metadata": {
    "scrolled": true
   },
   "outputs": [],
   "source": [
    "# preview observational LAI time-series\n",
    "laiobs = np.load('greatfield_O.npy')\n",
    "laiobs = pd.DataFrame(laiobs)\n",
    "laiobs.index = pd.date_range('2017-01-01', periods = len(laiobs), freq='W') \n",
    "laiobs = laiobs.rename(columns={inputs.columns[0]: 'lai'})\n",
    "plt.plot(laiobs.lai)\n",
    "plt.xticks(rotation=90)\n",
    "plt.title('Observational LAI')\n",
    "plt.ylabel('m$^{2}$ m$^{-2}$')\n",
    "plt.show()"
   ]
  },
  {
   "cell_type": "markdown",
   "id": "optimum-accounting",
   "metadata": {},
   "source": [
    "## Model data fusion with DALEC-Grass\n",
    "\n",
    "The MDF algorithm is implemented by calling the run() function of the MDF_DALEC_GRASS package.The run() function can be parallelised to speed up the assimilation duration. \n",
    "\n",
    "You can uncomment the following block of code and run it. MDF.run() can take between 15-30 mins to complete.\n",
    "\n",
    "• Note that you need to provide the full path to the MDF_DALEC_GRASS folder (workingdir)"
   ]
  },
  {
   "cell_type": "code",
   "execution_count": null,
   "id": "signed-course",
   "metadata": {},
   "outputs": [],
   "source": [
    "# import MDF\n",
    "# MDF.run(workingdir=\"/full/path/to/MDF_DALEC_GRASS\",sitename='greatfield') "
   ]
  },
  {
   "cell_type": "markdown",
   "id": "paperback-japanese",
   "metadata": {},
   "source": [
    "When the assimilation is completed we can draw samples from the posterior distribution and run DALEC-Grass in forward mode to obtain estimates of C pools, fluxes and balance. The following block of code completes the forward runs.\n",
    "\n",
    "• Note you need to edit the workingdir string (full path to the MDF_DALEC_GRASS folder)."
   ]
  },
  {
   "cell_type": "code",
   "execution_count": null,
   "id": "stuck-wholesale",
   "metadata": {},
   "outputs": [],
   "source": [
    "# forward runs \n",
    "import numpy as np \n",
    "import pandas as pd \n",
    "import DALEC_GRASS\n",
    "from sklearn.metrics import mean_squared_error\n",
    "from math import sqrt\n",
    "import datetime\n",
    "import matplotlib.pyplot as plt \n",
    "from scipy import stats\n",
    "\n",
    "workingdir = \"/full/path/to/MDF_DALEC_GRASS\"\n",
    "sitename = 'greatfield'\n",
    "\n",
    "# load posteriors\n",
    "mcmc_outs = pd.read_csv('MDF_outs_%s.csv'%sitename)\n",
    "mcmc_outs = mcmc_outs.sort_values(by='like1',ascending=False)\n",
    "mcmc_outs = mcmc_outs[:100]\n",
    "    \n",
    "## Load drivers \n",
    "met       = np.array(np.load('%s/%s_M.npy' %(workingdir,sitename)),order=\"F\")   \n",
    "met       = np.append(met[:,:52],met,axis=1) ## add 1 spinup year \n",
    "met[0,:]  = np.arange(1,len(met[0,:])+1) ## re-create index \n",
    "\n",
    "## Fill DALEC-Grass input variables \n",
    "deltat   = np.zeros([(met.shape[1])]) + 7 # weekly runs \n",
    "nodays   = met.shape[1]\n",
    "noyears  = int(nodays/float(52)) - 1 # weekly runs \n",
    "start    = 1     \n",
    "finish   = int(nodays)\n",
    "nopools  = 6     \n",
    "nofluxes = 21 \n",
    "nopars   = 34\n",
    "nomet    = met.shape[0]\n",
    "lat      = 50.77\n",
    "VC       = 1\n",
    "\n",
    "#### Load LAI observations \n",
    "obs_lai = np.load(\"%s/%s_O.npy\" %(workingdir,sitename)) \n",
    "\n",
    "### Complete forward runs \n",
    "nosamples  = len(mcmc_outs)\n",
    "lai_mult   = np.zeros([(nosamples),nodays]) * np.nan\n",
    "gpp_mult   = np.zeros([(nosamples),nodays]) * np.nan \n",
    "npp_mult   = np.zeros([(nosamples),nodays]) * np.nan \n",
    "nee_mult   = np.zeros([(nosamples),nodays]) * np.nan \n",
    "nbe_mult   = np.zeros([(nosamples),nodays]) * np.nan \n",
    "graze_mult = np.zeros([(nosamples),nodays]) * np.nan \n",
    "soilC_mult = np.zeros([(nosamples),nodays+1]) * np.nan \n",
    "cut_mult   = np.zeros([(nosamples),nodays]) * np.nan  \n",
    "abgC_mult  = np.zeros([(nosamples),nodays+1]) * np.nan \n",
    "rootC_mult = np.zeros([(nosamples),nodays+1]) * np.nan \n",
    "litterC_mult = np.zeros([(nosamples),nodays+1]) * np.nan \n",
    "animalCgas_mult = np.zeros([(nosamples),nodays]) * np.nan \n",
    "animalCmanure_mult = np.zeros([(nosamples),nodays]) * np.nan \n",
    "flux_autresp_mult = np.zeros([(nosamples),nodays]) * np.nan \n",
    "flux_hetresp_mult = np.zeros([(nosamples),nodays]) * np.nan \n",
    "flux_leaf_mult = np.zeros([(nosamples),nodays])  * np.nan\n",
    "flux_stem_mult = np.zeros([(nosamples),nodays]) * np.nan \n",
    "flux_root_mult = np.zeros([(nosamples),nodays]) * np.nan \n",
    "flux_litter_mult = np.zeros([(nosamples),nodays]) * np.nan \n",
    "flux_som_mult = np.zeros([(nosamples),nodays]) * np.nan \n",
    "\n",
    "unc_DF = pd.DataFrame()\n",
    "\n",
    "for i in range(0,(nosamples)):\n",
    "\n",
    "\tpars = np.array(mcmc_outs[mcmc_outs.columns[1:(nopars+1)]].iloc[i],order=\"F\")\n",
    "\tlai,gpp,nee,pools,fluxes,rem = DALEC_GRASS.carbon_model_mod.carbon_model(start,finish,deltat,lat,met,pars,nopools,nofluxes,VC,nodays,nopars,nomet)\n",
    "\t\t\n",
    "\tlai_mult[i,:] = lai\n",
    "\tgpp_mult[i,:] = gpp\n",
    "\tnpp_mult[i,:] = gpp - fluxes[:,2] \n",
    "\tnee_mult[i,:] = nee\n",
    "\tgraze_mult[i,:] = rem[0] \n",
    "\tcut_mult[i,:] = rem[1] \n",
    "\tsoilC_mult[i,:] = pools[:,5]\n",
    "\tabgC_mult[i,:] =  pools[:,0] + pools[:,1]\n",
    "\trootC_mult[i,:] = pools[:,2]\n",
    "\tlitterC_mult[i,:] = pools[:,4]\n",
    "\tnbe_mult[i,:] = nee*7 + (rem[0] + rem[1]) - fluxes[:,18]\n",
    "\tanimalCgas_mult[i,:] = fluxes[:,19] + fluxes[:,20]\n",
    "\tanimalCmanure_mult[i,:] = fluxes[:,18]\n",
    "\tflux_autresp_mult[i,:] = fluxes[:,2] \n",
    "\tflux_hetresp_mult[i,:] =  fluxes[:,12] + fluxes[:,13]\n",
    "\tflux_leaf_mult[i,:] = fluxes[:,3] \n",
    "\tflux_stem_mult[i,:] =  fluxes[:,4] \n",
    "\tflux_root_mult[i,:] = fluxes[:,5] \n",
    "\tflux_litter_mult[i,:] =  fluxes[:,9] + fluxes[:,10] + fluxes[:,11]\n",
    "\tflux_som_mult[i,:] =  fluxes[:,14] \n",
    "\n",
    "cut_mult[cut_mult==0] = np.nan\n",
    "\n",
    "for i in range(nodays): \n",
    "\tunc_DF = unc_DF.append({\n",
    "\t\t\t  'lai': stats.bayes_mvs(lai_mult[:,i][~np.isnan(lai_mult[:,i])],alpha=0.99)[0][0] , \n",
    "\t\t\t  'lai_std': stats.bayes_mvs(lai_mult[:,i][~np.isnan(lai_mult[:,i])],alpha=0.99)[2][0],\n",
    "\t\t\t  'gpp': stats.bayes_mvs(gpp_mult[:,i][~np.isnan(gpp_mult[:,i])],alpha=0.99)[0][0] , \n",
    "\t\t\t  'gpp_std': stats.bayes_mvs(gpp_mult[:,i][~np.isnan(gpp_mult[:,i])],alpha=0.99)[2][0],\n",
    "\t\t\t  'nee': stats.bayes_mvs(nee_mult[:,i][~np.isnan(nee_mult[:,i])],alpha=0.99)[0][0] , \n",
    "\t\t\t  'nee_std': stats.bayes_mvs(nee_mult[:,i][~np.isnan(nee_mult[:,i])],alpha=0.99)[2][0],\n",
    "\t\t\t  'npp': stats.bayes_mvs(npp_mult[:,i][~np.isnan(npp_mult[:,i])],alpha=0.99)[0][0] , \n",
    "\t\t\t  'npp_std': stats.bayes_mvs(npp_mult[:,i][~np.isnan(npp_mult[:,i])],alpha=0.99)[2][0],\n",
    "\t\t\t  'nbe': stats.bayes_mvs(nbe_mult[:,i][~np.isnan(nbe_mult[:,i])],alpha=0.99)[0][0] , \n",
    "\t\t\t  'nbe_std': stats.bayes_mvs(nbe_mult[:,i][~np.isnan(nbe_mult[:,i])],alpha=0.99)[2][0],\n",
    "\t\t\t  'graze_prob': len(graze_mult[:,i][graze_mult[:,i]>0])/float(len(graze_mult[:,i])),\n",
    "\t\t\t  'graze': stats.bayes_mvs(graze_mult[:,i][~np.isnan(graze_mult[:,i])],alpha=0.99)[0][0] , \n",
    "\t\t\t  'graze_std': stats.bayes_mvs(graze_mult[:,i][~np.isnan(graze_mult[:,i])],alpha=0.99)[2][0],\n",
    "\t\t\t  'cut_prob': len(cut_mult[:,i][cut_mult[:,i]>0])/float(len(cut_mult[:,i])),\n",
    "\t\t\t  'cut_mean' : np.nanmean(cut_mult[:,i]),\n",
    "\t\t\t  'cut_std' : np.nanstd(cut_mult[:,i]),\t  \n",
    "\t\t\t  'soilC': stats.bayes_mvs(soilC_mult[:,i][~np.isnan(soilC_mult[:,i])],alpha=0.99)[0][0] , \n",
    "\t\t\t  'soilC_std': stats.bayes_mvs(soilC_mult[:,i][~np.isnan(soilC_mult[:,i])],alpha=0.99)[2][0],\n",
    "\t\t\t  'abgC': stats.bayes_mvs(abgC_mult[:,i][~np.isnan(abgC_mult[:,i])],alpha=0.99)[0][0] , \n",
    "\t\t\t  'abgC_std': stats.bayes_mvs(abgC_mult[:,i][~np.isnan(abgC_mult[:,i])],alpha=0.99)[2][0],\n",
    "\t\t\t  'rootC': stats.bayes_mvs(rootC_mult[:,i][~np.isnan(rootC_mult[:,i])],alpha=0.99)[0][0] , \n",
    "\t\t\t  'rootC_std': stats.bayes_mvs(rootC_mult[:,i][~np.isnan(rootC_mult[:,i])],alpha=0.99)[2][0],\n",
    "\t\t\t  'litterC': stats.bayes_mvs(litterC_mult[:,i][~np.isnan(litterC_mult[:,i])],alpha=0.99)[0][0] , \n",
    "\t\t\t  'litterC_std': stats.bayes_mvs(litterC_mult[:,i][~np.isnan(litterC_mult[:,i])],alpha=0.99)[2][0],\n",
    "\t\t\t  'animalCgas': stats.bayes_mvs(animalCgas_mult[:,i][~np.isnan(animalCgas_mult[:,i])],alpha=0.99)[0][0] , \n",
    "\t\t\t  'animalCgas_std': stats.bayes_mvs(animalCgas_mult[:,i][~np.isnan(animalCgas_mult[:,i])],alpha=0.99)[2][0],\n",
    "\t\t\t  'animalCmanure': stats.bayes_mvs(animalCmanure_mult[:,i][~np.isnan(animalCmanure_mult[:,i])],alpha=0.99)[0][0] , \n",
    "\t\t\t  'animalCmanure_std': stats.bayes_mvs(animalCmanure_mult[:,i][~np.isnan(animalCmanure_mult[:,i])],alpha=0.99)[2][0],\n",
    "\t\t\t  'autresp': stats.bayes_mvs(flux_autresp_mult[:,i][~np.isnan(flux_autresp_mult[:,i])],alpha=0.99)[0][0], \n",
    "\t\t\t  'autresp_std': stats.bayes_mvs(flux_autresp_mult[:,i][~np.isnan(flux_autresp_mult[:,i])],alpha=0.99)[2][0],\n",
    "\t\t\t  'hetresp': stats.bayes_mvs(flux_hetresp_mult[:,i][~np.isnan(flux_hetresp_mult[:,i])],alpha=0.99)[0][0], \n",
    "\t\t\t  'hetresp_std': stats.bayes_mvs(flux_hetresp_mult[:,i][~np.isnan(flux_hetresp_mult[:,i])],alpha=0.99)[2][0],\t\t\t  \n",
    "\t\t\t  'F_leaf': stats.bayes_mvs(flux_leaf_mult[:,i][~np.isnan(flux_leaf_mult[:,i])],alpha=0.99)[0][0], \n",
    "\t\t\t  'F_leaf_std': stats.bayes_mvs(flux_leaf_mult[:,i][~np.isnan(flux_leaf_mult[:,i])],alpha=0.99)[2][0],\n",
    "\t\t\t  'F_stem': stats.bayes_mvs(flux_stem_mult[:,i][~np.isnan(flux_stem_mult[:,i])],alpha=0.99)[0][0], \n",
    "\t\t\t  'F_stem_std': stats.bayes_mvs(flux_stem_mult[:,i][~np.isnan(flux_stem_mult[:,i])],alpha=0.99)[2][0],\n",
    "\t\t\t  'F_root': stats.bayes_mvs(flux_root_mult[:,i][~np.isnan(flux_root_mult[:,i])],alpha=0.99)[0][0], \n",
    "\t\t\t  'F_root_std': stats.bayes_mvs(flux_root_mult[:,i][~np.isnan(flux_root_mult[:,i])],alpha=0.99)[2][0],\t\t\t  \t\t\t  \n",
    "\t\t\t  'F_litter': stats.bayes_mvs(flux_litter_mult[:,i][~np.isnan(flux_litter_mult[:,i])],alpha=0.99)[0][0], \n",
    "\t\t\t  'F_litter_std': stats.bayes_mvs(flux_litter_mult[:,i][~np.isnan(flux_litter_mult[:,i])],alpha=0.99)[2][0],\n",
    "\t\t\t  'F_som': stats.bayes_mvs(flux_som_mult[:,i][~np.isnan(flux_som_mult[:,i])],alpha=0.99)[0][0], \n",
    "\t\t\t  'F_som_std': stats.bayes_mvs(flux_som_mult[:,i][~np.isnan(flux_som_mult[:,i])],alpha=0.99)[2][0]\t\t\t  \n",
    "\t\t\t  },ignore_index=True)\n",
    "\n",
    "unc_DF.index = pd.date_range('2016-01-08', periods = nodays, freq='7D')\n",
    "unc_DF = unc_DF['2017':]\n"
   ]
  },
  {
   "cell_type": "code",
   "execution_count": null,
   "id": "cordless-builder",
   "metadata": {},
   "outputs": [],
   "source": [
    "# what did the forward runs produce \n",
    "unc_DF # the dataframe holding DALEC-Grass predictions (mean and std) for C pools, fluxes and removals"
   ]
  },
  {
   "cell_type": "markdown",
   "id": "celtic-reference",
   "metadata": {},
   "source": [
    "## Plotting the results of forward runs"
   ]
  },
  {
   "cell_type": "code",
   "execution_count": null,
   "id": "weekly-district",
   "metadata": {
    "scrolled": true
   },
   "outputs": [],
   "source": [
    "## Leaf Area Index \n",
    "plt.figure(figsize=(8, 4))\n",
    "plt.title('Leaf Area Index')\n",
    "plt.ylabel('m$^{2}$ m$^{-2}$')\n",
    "plt.plot(unc_DF.lai,color='green',label='sim')\n",
    "plt.fill_between(unc_DF.index, unc_DF.lai + 2*unc_DF['lai_std'], unc_DF.lai - 2*unc_DF['lai_std'], color='green', alpha=0.33)\n",
    "plt.scatter(unc_DF.index,obs_lai,marker='+',color='red',label='obs')\n",
    "plt.xticks(rotation=90)\n",
    "plt.legend()\n",
    "plt.show()"
   ]
  },
  {
   "cell_type": "code",
   "execution_count": null,
   "id": "municipal-produce",
   "metadata": {},
   "outputs": [],
   "source": [
    "## NEE \n",
    "plt.figure(figsize=(12, 4))\n",
    "plt.subplot(1,2,1)\n",
    "plt.title('NEE')\n",
    "plt.ylabel('g C m$^{-2}$ d$^{-1}$')\n",
    "plt.plot(unc_DF.nee,color='black')\n",
    "plt.fill_between(unc_DF.index, unc_DF.nee + 2*unc_DF['nee_std'], unc_DF.nee - 2*unc_DF['nee_std'], color='black', alpha=0.33)\n",
    "plt.xticks(rotation=90)\n",
    "plt.subplot(1,2,2)\n",
    "plt.plot(unc_DF.nee.cumsum(),color='black')\n",
    "plt.ylabel('g C m$^{-2}$')\n",
    "plt.xticks(rotation=90)\n",
    "plt.show()"
   ]
  },
  {
   "cell_type": "code",
   "execution_count": null,
   "id": "pleased-kazakhstan",
   "metadata": {},
   "outputs": [],
   "source": [
    "## AGB \n",
    "plt.figure(figsize=(8, 4))\n",
    "plt.title('above/below - ground Biomass')\n",
    "plt.fill_between(unc_DF.index, unc_DF.abgC, unc_DF.abgC*0 , color='black', alpha=0.33,label='AGB')\n",
    "plt.fill_between(unc_DF.index, -unc_DF.rootC, unc_DF.rootC*0 , color='brown', alpha=0.33,label='roots')\n",
    "plt.ylabel('g C m$^{-2}$')\n",
    "plt.xticks(rotation=90)\n",
    "plt.legend()\n",
    "plt.show()"
   ]
  },
  {
   "cell_type": "code",
   "execution_count": null,
   "id": "thirty-glass",
   "metadata": {},
   "outputs": [],
   "source": [
    "## Grazing \n",
    "plt.figure(figsize=(8, 4))\n",
    "plt.title('Predicted livestock density')\n",
    "plt.xlabel('month')\n",
    "plt.ylabel('LSU per ha')\n",
    "plt.bar(list((unc_DF.graze.resample('M').sum()).index),(unc_DF.graze.resample('M').sum()*21/float(600*pars[30]))/float(30),width=20,color='black')\n",
    "plt.xticks(rotation=90)\n",
    "plt.show()"
   ]
  },
  {
   "cell_type": "code",
   "execution_count": null,
   "id": "4bb19536",
   "metadata": {},
   "outputs": [],
   "source": []
  }
 ],
 "metadata": {
  "kernelspec": {
   "display_name": "Python 3 (ipykernel)",
   "language": "python",
   "name": "python3"
  },
  "language_info": {
   "codemirror_mode": {
    "name": "ipython",
    "version": 3
   },
   "file_extension": ".py",
   "mimetype": "text/x-python",
   "name": "python",
   "nbconvert_exporter": "python",
   "pygments_lexer": "ipython3",
   "version": "3.9.7"
  }
 },
 "nbformat": 4,
 "nbformat_minor": 5
}
